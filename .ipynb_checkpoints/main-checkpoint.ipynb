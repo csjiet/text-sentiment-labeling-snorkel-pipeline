{
 "cells": [
  {
   "cell_type": "code",
   "execution_count": 120,
   "id": "005ade6c-dae2-4df3-ae7b-9b6a8a5f23d4",
   "metadata": {},
   "outputs": [],
   "source": [
    "import pandas as pd\n",
    "import random"
   ]
  },
  {
   "cell_type": "code",
   "execution_count": 121,
   "id": "2d281e58-7903-4ba8-bc95-5eed94d58a59",
   "metadata": {
    "tags": []
   },
   "outputs": [
    {
     "data": {
      "text/html": [
       "<div>\n",
       "<style scoped>\n",
       "    .dataframe tbody tr th:only-of-type {\n",
       "        vertical-align: middle;\n",
       "    }\n",
       "\n",
       "    .dataframe tbody tr th {\n",
       "        vertical-align: top;\n",
       "    }\n",
       "\n",
       "    .dataframe thead th {\n",
       "        text-align: right;\n",
       "    }\n",
       "</style>\n",
       "<table border=\"1\" class=\"dataframe\">\n",
       "  <thead>\n",
       "    <tr style=\"text-align: right;\">\n",
       "      <th></th>\n",
       "      <th>text</th>\n",
       "      <th>label</th>\n",
       "    </tr>\n",
       "  </thead>\n",
       "  <tbody>\n",
       "    <tr>\n",
       "      <th>0</th>\n",
       "      <td>The cat is sleeping on the couch.</td>\n",
       "      <td>not a question</td>\n",
       "    </tr>\n",
       "    <tr>\n",
       "      <th>1</th>\n",
       "      <td>Are you going to the party tonight?</td>\n",
       "      <td>a question</td>\n",
       "    </tr>\n",
       "    <tr>\n",
       "      <th>2</th>\n",
       "      <td>I finished reading a book yesterday.</td>\n",
       "      <td>not a question</td>\n",
       "    </tr>\n",
       "    <tr>\n",
       "      <th>3</th>\n",
       "      <td>What is your favorite type of cuisine?</td>\n",
       "      <td>a question</td>\n",
       "    </tr>\n",
       "    <tr>\n",
       "      <th>4</th>\n",
       "      <td>She went to the store to buy some milk.</td>\n",
       "      <td>not a question</td>\n",
       "    </tr>\n",
       "    <tr>\n",
       "      <th>...</th>\n",
       "      <td>...</td>\n",
       "      <td>...</td>\n",
       "    </tr>\n",
       "    <tr>\n",
       "      <th>193</th>\n",
       "      <td>She enjoys practicing meditation and mindfulness.</td>\n",
       "      <td>not a question</td>\n",
       "    </tr>\n",
       "    <tr>\n",
       "      <th>194</th>\n",
       "      <td>Do you like to go to the museum?</td>\n",
       "      <td>a question</td>\n",
       "    </tr>\n",
       "    <tr>\n",
       "      <th>195</th>\n",
       "      <td>He is a construction worker and builds structu...</td>\n",
       "      <td>not a question</td>\n",
       "    </tr>\n",
       "    <tr>\n",
       "      <th>196</th>\n",
       "      <td>What is your favorite type of ice cream flavor?</td>\n",
       "      <td>a question</td>\n",
       "    </tr>\n",
       "    <tr>\n",
       "      <th>197</th>\n",
       "      <td>She likes to go to the beach and swim in the o...</td>\n",
       "      <td>not a question</td>\n",
       "    </tr>\n",
       "  </tbody>\n",
       "</table>\n",
       "<p>198 rows × 2 columns</p>\n",
       "</div>"
      ],
      "text/plain": [
       "                                                  text           label\n",
       "0                    The cat is sleeping on the couch.  not a question\n",
       "1                  Are you going to the party tonight?      a question\n",
       "2                 I finished reading a book yesterday.  not a question\n",
       "3               What is your favorite type of cuisine?      a question\n",
       "4              She went to the store to buy some milk.  not a question\n",
       "..                                                 ...             ...\n",
       "193  She enjoys practicing meditation and mindfulness.  not a question\n",
       "194                   Do you like to go to the museum?      a question\n",
       "195  He is a construction worker and builds structu...  not a question\n",
       "196    What is your favorite type of ice cream flavor?      a question\n",
       "197  She likes to go to the beach and swim in the o...  not a question\n",
       "\n",
       "[198 rows x 2 columns]"
      ]
     },
     "execution_count": 121,
     "metadata": {},
     "output_type": "execute_result"
    }
   ],
   "source": [
    "df = pd.read_csv('./dataset.csv')\n",
    "df"
   ]
  },
  {
   "cell_type": "code",
   "execution_count": 122,
   "id": "77baf278-f653-44d5-a6e4-98502e250b64",
   "metadata": {
    "tags": []
   },
   "outputs": [
    {
     "data": {
      "text/html": [
       "<div>\n",
       "<style scoped>\n",
       "    .dataframe tbody tr th:only-of-type {\n",
       "        vertical-align: middle;\n",
       "    }\n",
       "\n",
       "    .dataframe tbody tr th {\n",
       "        vertical-align: top;\n",
       "    }\n",
       "\n",
       "    .dataframe thead th {\n",
       "        text-align: right;\n",
       "    }\n",
       "</style>\n",
       "<table border=\"1\" class=\"dataframe\">\n",
       "  <thead>\n",
       "    <tr style=\"text-align: right;\">\n",
       "      <th></th>\n",
       "      <th>text</th>\n",
       "      <th>label</th>\n",
       "    </tr>\n",
       "  </thead>\n",
       "  <tbody>\n",
       "    <tr>\n",
       "      <th>count</th>\n",
       "      <td>198</td>\n",
       "      <td>198</td>\n",
       "    </tr>\n",
       "    <tr>\n",
       "      <th>unique</th>\n",
       "      <td>181</td>\n",
       "      <td>2</td>\n",
       "    </tr>\n",
       "    <tr>\n",
       "      <th>top</th>\n",
       "      <td>What is your favorite TV show?</td>\n",
       "      <td>not a question</td>\n",
       "    </tr>\n",
       "    <tr>\n",
       "      <th>freq</th>\n",
       "      <td>2</td>\n",
       "      <td>100</td>\n",
       "    </tr>\n",
       "  </tbody>\n",
       "</table>\n",
       "</div>"
      ],
      "text/plain": [
       "                                  text           label\n",
       "count                              198             198\n",
       "unique                             181               2\n",
       "top     What is your favorite TV show?  not a question\n",
       "freq                                 2             100"
      ]
     },
     "execution_count": 122,
     "metadata": {},
     "output_type": "execute_result"
    }
   ],
   "source": [
    "df.describe(include='all')"
   ]
  },
  {
   "cell_type": "code",
   "execution_count": 123,
   "id": "230b5456-f95c-407b-b36b-5d7f7f2c6de4",
   "metadata": {
    "tags": []
   },
   "outputs": [
    {
     "data": {
      "text/html": [
       "<div>\n",
       "<style scoped>\n",
       "    .dataframe tbody tr th:only-of-type {\n",
       "        vertical-align: middle;\n",
       "    }\n",
       "\n",
       "    .dataframe tbody tr th {\n",
       "        vertical-align: top;\n",
       "    }\n",
       "\n",
       "    .dataframe thead th {\n",
       "        text-align: right;\n",
       "    }\n",
       "</style>\n",
       "<table border=\"1\" class=\"dataframe\">\n",
       "  <thead>\n",
       "    <tr style=\"text-align: right;\">\n",
       "      <th></th>\n",
       "      <th>text</th>\n",
       "      <th>label</th>\n",
       "    </tr>\n",
       "  </thead>\n",
       "  <tbody>\n",
       "    <tr>\n",
       "      <th>0</th>\n",
       "      <td>The cat is sleeping on the couch.</td>\n",
       "      <td>not a question</td>\n",
       "    </tr>\n",
       "    <tr>\n",
       "      <th>1</th>\n",
       "      <td>Are you going to the party tonight?</td>\n",
       "      <td>a question</td>\n",
       "    </tr>\n",
       "    <tr>\n",
       "      <th>2</th>\n",
       "      <td>I finished reading a book yesterday.</td>\n",
       "      <td>not a question</td>\n",
       "    </tr>\n",
       "    <tr>\n",
       "      <th>3</th>\n",
       "      <td>What is your favorite type of cuisine?</td>\n",
       "      <td>a question</td>\n",
       "    </tr>\n",
       "    <tr>\n",
       "      <th>4</th>\n",
       "      <td>She went to the store to buy some milk.</td>\n",
       "      <td>not a question</td>\n",
       "    </tr>\n",
       "    <tr>\n",
       "      <th>...</th>\n",
       "      <td>...</td>\n",
       "      <td>...</td>\n",
       "    </tr>\n",
       "    <tr>\n",
       "      <th>193</th>\n",
       "      <td>She enjoys practicing meditation and mindfulness.</td>\n",
       "      <td>not a question</td>\n",
       "    </tr>\n",
       "    <tr>\n",
       "      <th>194</th>\n",
       "      <td>Do you like to go to the museum?</td>\n",
       "      <td>a question</td>\n",
       "    </tr>\n",
       "    <tr>\n",
       "      <th>195</th>\n",
       "      <td>He is a construction worker and builds structu...</td>\n",
       "      <td>not a question</td>\n",
       "    </tr>\n",
       "    <tr>\n",
       "      <th>196</th>\n",
       "      <td>What is your favorite type of ice cream flavor?</td>\n",
       "      <td>a question</td>\n",
       "    </tr>\n",
       "    <tr>\n",
       "      <th>197</th>\n",
       "      <td>She likes to go to the beach and swim in the o...</td>\n",
       "      <td>not a question</td>\n",
       "    </tr>\n",
       "  </tbody>\n",
       "</table>\n",
       "<p>181 rows × 2 columns</p>\n",
       "</div>"
      ],
      "text/plain": [
       "                                                  text           label\n",
       "0                    The cat is sleeping on the couch.  not a question\n",
       "1                  Are you going to the party tonight?      a question\n",
       "2                 I finished reading a book yesterday.  not a question\n",
       "3               What is your favorite type of cuisine?      a question\n",
       "4              She went to the store to buy some milk.  not a question\n",
       "..                                                 ...             ...\n",
       "193  She enjoys practicing meditation and mindfulness.  not a question\n",
       "194                   Do you like to go to the museum?      a question\n",
       "195  He is a construction worker and builds structu...  not a question\n",
       "196    What is your favorite type of ice cream flavor?      a question\n",
       "197  She likes to go to the beach and swim in the o...  not a question\n",
       "\n",
       "[181 rows x 2 columns]"
      ]
     },
     "execution_count": 123,
     "metadata": {},
     "output_type": "execute_result"
    }
   ],
   "source": [
    "# Get all the unique rows\n",
    "df = df[~df.duplicated()]\n",
    "df"
   ]
  },
  {
   "cell_type": "code",
   "execution_count": 124,
   "id": "dfa3be61-dc83-46b0-b29d-0f795518bea6",
   "metadata": {
    "tags": []
   },
   "outputs": [
    {
     "name": "stdout",
     "output_type": "stream",
     "text": [
      "(90, 2)\n",
      "(91, 2)\n"
     ]
    }
   ],
   "source": [
    "from sklearn.model_selection import train_test_split\n",
    "df_train, df_test = train_test_split(df, train_size= 0.5)\n",
    "\n",
    "print(df_train.shape)\n",
    "print(df_test.shape)"
   ]
  },
  {
   "cell_type": "markdown",
   "id": "eeb89cd4-d270-41ee-8e8b-02595dff0cbd",
   "metadata": {},
   "source": [
    "### Labeling_function class\n",
    "The LabelingFunction class is a key component of the Snorkel framework, which is used for weak supervision \n",
    "and programmatic data labeling. A LabelingFunction is a Python function that takes in an input data point \n",
    "(such as a text snippet or an image) and returns a label for that data point based on some heuristic or other rule.\n",
    "\n",
    "In Snorkel, LabelingFunctions are used to create labeled training data from large amounts of unlabeled data. By \n",
    "creating many different LabelingFunctions and combining their outputs using a generative model, it is possible to \n",
    "create labeled training data that is of high quality, even if each individual LabelingFunction is not perfect.\n",
    "\n",
    "The LabelingFunction class in Snorkel provides a number of useful features for building LabelingFunctions, including \n",
    "a built-in error handling system that allows users to handle noisy or incorrect labels, and the ability to incorporate \n",
    "domain-specific knowledge or external data sources to improve label accuracy.\n",
    "\n",
    "### PandasLFApplier class\n",
    "The PandasLFApplier class in Snorkel is used to apply labeling functions (LFs) to a pandas DataFrame. It takes a set \n",
    "of LFs and a pandas DataFrame as input, and applies the LFs to each row of the DataFrame to produce label matrices. \n",
    "The resulting label matrices can then be used to train machine learning models.\n",
    "\n",
    "The PandasLFApplier class has several useful features, such as the ability to automatically parallelize LF \n",
    "application across multiple CPU cores, and the ability to apply LFs to subsets of the DataFrame based on the \n",
    "values of certain columns. It also allows for easy integration with other parts of the Snorkel workflow, such as \n",
    "the LabelModel class for model training and the LabelingFunction class for defining LFs.\n",
    "\n",
    "\n",
    "### LFAnalysis class\n",
    "The Snorkel LFAnalysis class is a utility class that provides various analysis functions for a set of labeling \n",
    "functions in a Snorkel project. Some of the analysis functions provided by LFAnalysis include:\n",
    "\n",
    "- coverage: Computes the percentage of examples that are covered by at least one labeling function.\n",
    "- overlaps: Computes the overlap between pairs of labeling functions.\n",
    "- conflicts: Computes the number of times labeling functions disagree on a given example.\n",
    "- empirical_accuracy: Computes the empirical accuracy of each labeling function, based on a small set of gold labels."
   ]
  },
  {
   "cell_type": "code",
   "execution_count": 125,
   "id": "417bc2f7-22e1-4d56-ac6c-7485484c472a",
   "metadata": {
    "tags": []
   },
   "outputs": [],
   "source": [
    "from snorkel.labeling import labeling_function, PandasLFApplier, LFAnalysis\n",
    "import re\n",
    "\n",
    "# Labels\n",
    "YES = 1\n",
    "NO = 0\n",
    "ABSTAIN = -1"
   ]
  },
  {
   "cell_type": "markdown",
   "id": "f8ebb206-ad9b-4752-849e-b9cd241c260d",
   "metadata": {},
   "source": [
    "## Creating labeling functions"
   ]
  },
  {
   "cell_type": "code",
   "execution_count": 126,
   "id": "314b0eed-4327-41c3-907d-1ccf20ad53da",
   "metadata": {
    "tags": []
   },
   "outputs": [],
   "source": [
    "# python decorator to take function as argument into labeling_function()\n",
    "@labeling_function()\n",
    "def question_keyword_tokens(x):\n",
    "    keywords = ['what', 'why', 'when', 'where', 'who', 'how']\n",
    "    return YES if any(word in x.text.lower() for word in keywords) else ABSTAIN "
   ]
  },
  {
   "cell_type": "code",
   "execution_count": 127,
   "id": "39a07477-77b7-4f95-ae76-4019e83d3100",
   "metadata": {
    "tags": []
   },
   "outputs": [],
   "source": [
    "@labeling_function()\n",
    "def question_regex_tokens(x):\n",
    "    return YES if re.search(r\".*?\", x.text, flags=re.I) else ABSTAIN"
   ]
  },
  {
   "cell_type": "markdown",
   "id": "ff05534a-665e-4ff4-a5b4-4606997e35b1",
   "metadata": {
    "tags": []
   },
   "source": [
    "## Feed labeling functions into PandasLFApplier"
   ]
  },
  {
   "cell_type": "code",
   "execution_count": 128,
   "id": "ba400df5-c635-4cdf-9243-3e538ef27078",
   "metadata": {
    "tags": []
   },
   "outputs": [],
   "source": [
    "l_functions = [question_keyword_tokens, question_regex_tokens]\n",
    "\n",
    "applier = PandasLFApplier(lfs = l_functions)"
   ]
  },
  {
   "cell_type": "markdown",
   "id": "59ea303a-92a8-4690-bf40-8474f99bace5",
   "metadata": {},
   "source": [
    "## Create label matrix "
   ]
  },
  {
   "cell_type": "code",
   "execution_count": 129,
   "id": "7a82a5bc-a74d-4184-a100-26f4d7e2f443",
   "metadata": {
    "tags": []
   },
   "outputs": [
    {
     "name": "stderr",
     "output_type": "stream",
     "text": [
      "100%|█████████████████████████████████████████████████████████████| 90/90 [00:00<00:00, 32233.57it/s]\n"
     ]
    }
   ],
   "source": [
    "L_train = applier.apply(df=df_train)"
   ]
  },
  {
   "cell_type": "markdown",
   "id": "7b28c77d-dee9-4882-90ce-aa6fb9147c0e",
   "metadata": {
    "tags": []
   },
   "source": [
    "## Apply label matrix to LFAnalysis"
   ]
  },
  {
   "cell_type": "code",
   "execution_count": 133,
   "id": "51622f86-924f-4a71-97f0-e2f521f3251b",
   "metadata": {
    "tags": []
   },
   "outputs": [
    {
     "data": {
      "text/html": [
       "<div>\n",
       "<style scoped>\n",
       "    .dataframe tbody tr th:only-of-type {\n",
       "        vertical-align: middle;\n",
       "    }\n",
       "\n",
       "    .dataframe tbody tr th {\n",
       "        vertical-align: top;\n",
       "    }\n",
       "\n",
       "    .dataframe thead th {\n",
       "        text-align: right;\n",
       "    }\n",
       "</style>\n",
       "<table border=\"1\" class=\"dataframe\">\n",
       "  <thead>\n",
       "    <tr style=\"text-align: right;\">\n",
       "      <th></th>\n",
       "      <th>j</th>\n",
       "      <th>Polarity</th>\n",
       "      <th>Coverage</th>\n",
       "      <th>Overlaps</th>\n",
       "      <th>Conflicts</th>\n",
       "    </tr>\n",
       "  </thead>\n",
       "  <tbody>\n",
       "    <tr>\n",
       "      <th>question_keyword_tokens</th>\n",
       "      <td>0</td>\n",
       "      <td>[1]</td>\n",
       "      <td>0.255556</td>\n",
       "      <td>0.255556</td>\n",
       "      <td>0.0</td>\n",
       "    </tr>\n",
       "    <tr>\n",
       "      <th>question_regex_tokens</th>\n",
       "      <td>1</td>\n",
       "      <td>[1]</td>\n",
       "      <td>1.000000</td>\n",
       "      <td>0.255556</td>\n",
       "      <td>0.0</td>\n",
       "    </tr>\n",
       "  </tbody>\n",
       "</table>\n",
       "</div>"
      ],
      "text/plain": [
       "                         j Polarity  Coverage  Overlaps  Conflicts\n",
       "question_keyword_tokens  0      [1]  0.255556  0.255556        0.0\n",
       "question_regex_tokens    1      [1]  1.000000  0.255556        0.0"
      ]
     },
     "execution_count": 133,
     "metadata": {},
     "output_type": "execute_result"
    }
   ],
   "source": [
    "LFAnalysis(L=L_train, lfs = l_functions).lf_summary()"
   ]
  },
  {
   "cell_type": "code",
   "execution_count": null,
   "id": "d81ca05d-a547-4069-9d03-03e9263c4031",
   "metadata": {},
   "outputs": [],
   "source": []
  },
  {
   "cell_type": "code",
   "execution_count": null,
   "id": "96fbde60-6044-4e7b-ad63-fd087a198ba6",
   "metadata": {},
   "outputs": [],
   "source": []
  }
 ],
 "metadata": {
  "kernelspec": {
   "display_name": "python_ml_venv",
   "language": "python",
   "name": "python_ml_venv"
  },
  "language_info": {
   "codemirror_mode": {
    "name": "ipython",
    "version": 3
   },
   "file_extension": ".py",
   "mimetype": "text/x-python",
   "name": "python",
   "nbconvert_exporter": "python",
   "pygments_lexer": "ipython3",
   "version": "3.10.4"
  }
 },
 "nbformat": 4,
 "nbformat_minor": 5
}

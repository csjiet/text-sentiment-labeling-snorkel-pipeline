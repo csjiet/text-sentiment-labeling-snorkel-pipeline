{
 "cells": [
  {
   "cell_type": "code",
   "execution_count": 158,
   "id": "005ade6c-dae2-4df3-ae7b-9b6a8a5f23d4",
   "metadata": {},
   "outputs": [],
   "source": [
    "import pandas as pd\n",
    "import random\n",
    "import numpy as np"
   ]
  },
  {
   "cell_type": "code",
   "execution_count": 159,
   "id": "2d281e58-7903-4ba8-bc95-5eed94d58a59",
   "metadata": {
    "tags": []
   },
   "outputs": [
    {
     "data": {
      "text/html": [
       "<div>\n",
       "<style scoped>\n",
       "    .dataframe tbody tr th:only-of-type {\n",
       "        vertical-align: middle;\n",
       "    }\n",
       "\n",
       "    .dataframe tbody tr th {\n",
       "        vertical-align: top;\n",
       "    }\n",
       "\n",
       "    .dataframe thead th {\n",
       "        text-align: right;\n",
       "    }\n",
       "</style>\n",
       "<table border=\"1\" class=\"dataframe\">\n",
       "  <thead>\n",
       "    <tr style=\"text-align: right;\">\n",
       "      <th></th>\n",
       "      <th>text</th>\n",
       "      <th>label</th>\n",
       "    </tr>\n",
       "  </thead>\n",
       "  <tbody>\n",
       "    <tr>\n",
       "      <th>0</th>\n",
       "      <td>The cat is sleeping on the couch.</td>\n",
       "      <td>not a question</td>\n",
       "    </tr>\n",
       "    <tr>\n",
       "      <th>1</th>\n",
       "      <td>Are you going to the party tonight?</td>\n",
       "      <td>a question</td>\n",
       "    </tr>\n",
       "    <tr>\n",
       "      <th>2</th>\n",
       "      <td>I finished reading a book yesterday.</td>\n",
       "      <td>not a question</td>\n",
       "    </tr>\n",
       "    <tr>\n",
       "      <th>3</th>\n",
       "      <td>What is your favorite type of cuisine?</td>\n",
       "      <td>a question</td>\n",
       "    </tr>\n",
       "    <tr>\n",
       "      <th>4</th>\n",
       "      <td>She went to the store to buy some milk.</td>\n",
       "      <td>not a question</td>\n",
       "    </tr>\n",
       "    <tr>\n",
       "      <th>...</th>\n",
       "      <td>...</td>\n",
       "      <td>...</td>\n",
       "    </tr>\n",
       "    <tr>\n",
       "      <th>193</th>\n",
       "      <td>She enjoys practicing meditation and mindfulness.</td>\n",
       "      <td>not a question</td>\n",
       "    </tr>\n",
       "    <tr>\n",
       "      <th>194</th>\n",
       "      <td>Do you like to go to the museum?</td>\n",
       "      <td>a question</td>\n",
       "    </tr>\n",
       "    <tr>\n",
       "      <th>195</th>\n",
       "      <td>He is a construction worker and builds structu...</td>\n",
       "      <td>not a question</td>\n",
       "    </tr>\n",
       "    <tr>\n",
       "      <th>196</th>\n",
       "      <td>What is your favorite type of ice cream flavor?</td>\n",
       "      <td>a question</td>\n",
       "    </tr>\n",
       "    <tr>\n",
       "      <th>197</th>\n",
       "      <td>She likes to go to the beach and swim in the o...</td>\n",
       "      <td>not a question</td>\n",
       "    </tr>\n",
       "  </tbody>\n",
       "</table>\n",
       "<p>198 rows × 2 columns</p>\n",
       "</div>"
      ],
      "text/plain": [
       "                                                  text           label\n",
       "0                    The cat is sleeping on the couch.  not a question\n",
       "1                  Are you going to the party tonight?      a question\n",
       "2                 I finished reading a book yesterday.  not a question\n",
       "3               What is your favorite type of cuisine?      a question\n",
       "4              She went to the store to buy some milk.  not a question\n",
       "..                                                 ...             ...\n",
       "193  She enjoys practicing meditation and mindfulness.  not a question\n",
       "194                   Do you like to go to the museum?      a question\n",
       "195  He is a construction worker and builds structu...  not a question\n",
       "196    What is your favorite type of ice cream flavor?      a question\n",
       "197  She likes to go to the beach and swim in the o...  not a question\n",
       "\n",
       "[198 rows x 2 columns]"
      ]
     },
     "execution_count": 159,
     "metadata": {},
     "output_type": "execute_result"
    }
   ],
   "source": [
    "df = pd.read_csv('./dataset.csv')\n",
    "df"
   ]
  },
  {
   "cell_type": "code",
   "execution_count": 160,
   "id": "77baf278-f653-44d5-a6e4-98502e250b64",
   "metadata": {
    "tags": []
   },
   "outputs": [
    {
     "data": {
      "text/html": [
       "<div>\n",
       "<style scoped>\n",
       "    .dataframe tbody tr th:only-of-type {\n",
       "        vertical-align: middle;\n",
       "    }\n",
       "\n",
       "    .dataframe tbody tr th {\n",
       "        vertical-align: top;\n",
       "    }\n",
       "\n",
       "    .dataframe thead th {\n",
       "        text-align: right;\n",
       "    }\n",
       "</style>\n",
       "<table border=\"1\" class=\"dataframe\">\n",
       "  <thead>\n",
       "    <tr style=\"text-align: right;\">\n",
       "      <th></th>\n",
       "      <th>text</th>\n",
       "      <th>label</th>\n",
       "    </tr>\n",
       "  </thead>\n",
       "  <tbody>\n",
       "    <tr>\n",
       "      <th>count</th>\n",
       "      <td>198</td>\n",
       "      <td>198</td>\n",
       "    </tr>\n",
       "    <tr>\n",
       "      <th>unique</th>\n",
       "      <td>181</td>\n",
       "      <td>2</td>\n",
       "    </tr>\n",
       "    <tr>\n",
       "      <th>top</th>\n",
       "      <td>What is your favorite TV show?</td>\n",
       "      <td>not a question</td>\n",
       "    </tr>\n",
       "    <tr>\n",
       "      <th>freq</th>\n",
       "      <td>2</td>\n",
       "      <td>100</td>\n",
       "    </tr>\n",
       "  </tbody>\n",
       "</table>\n",
       "</div>"
      ],
      "text/plain": [
       "                                  text           label\n",
       "count                              198             198\n",
       "unique                             181               2\n",
       "top     What is your favorite TV show?  not a question\n",
       "freq                                 2             100"
      ]
     },
     "execution_count": 160,
     "metadata": {},
     "output_type": "execute_result"
    }
   ],
   "source": [
    "df.describe(include='all')"
   ]
  },
  {
   "cell_type": "code",
   "execution_count": 161,
   "id": "230b5456-f95c-407b-b36b-5d7f7f2c6de4",
   "metadata": {
    "tags": []
   },
   "outputs": [
    {
     "data": {
      "text/html": [
       "<div>\n",
       "<style scoped>\n",
       "    .dataframe tbody tr th:only-of-type {\n",
       "        vertical-align: middle;\n",
       "    }\n",
       "\n",
       "    .dataframe tbody tr th {\n",
       "        vertical-align: top;\n",
       "    }\n",
       "\n",
       "    .dataframe thead th {\n",
       "        text-align: right;\n",
       "    }\n",
       "</style>\n",
       "<table border=\"1\" class=\"dataframe\">\n",
       "  <thead>\n",
       "    <tr style=\"text-align: right;\">\n",
       "      <th></th>\n",
       "      <th>text</th>\n",
       "      <th>label</th>\n",
       "    </tr>\n",
       "  </thead>\n",
       "  <tbody>\n",
       "    <tr>\n",
       "      <th>0</th>\n",
       "      <td>The cat is sleeping on the couch.</td>\n",
       "      <td>not a question</td>\n",
       "    </tr>\n",
       "    <tr>\n",
       "      <th>1</th>\n",
       "      <td>Are you going to the party tonight?</td>\n",
       "      <td>a question</td>\n",
       "    </tr>\n",
       "    <tr>\n",
       "      <th>2</th>\n",
       "      <td>I finished reading a book yesterday.</td>\n",
       "      <td>not a question</td>\n",
       "    </tr>\n",
       "    <tr>\n",
       "      <th>3</th>\n",
       "      <td>What is your favorite type of cuisine?</td>\n",
       "      <td>a question</td>\n",
       "    </tr>\n",
       "    <tr>\n",
       "      <th>4</th>\n",
       "      <td>She went to the store to buy some milk.</td>\n",
       "      <td>not a question</td>\n",
       "    </tr>\n",
       "    <tr>\n",
       "      <th>...</th>\n",
       "      <td>...</td>\n",
       "      <td>...</td>\n",
       "    </tr>\n",
       "    <tr>\n",
       "      <th>193</th>\n",
       "      <td>She enjoys practicing meditation and mindfulness.</td>\n",
       "      <td>not a question</td>\n",
       "    </tr>\n",
       "    <tr>\n",
       "      <th>194</th>\n",
       "      <td>Do you like to go to the museum?</td>\n",
       "      <td>a question</td>\n",
       "    </tr>\n",
       "    <tr>\n",
       "      <th>195</th>\n",
       "      <td>He is a construction worker and builds structu...</td>\n",
       "      <td>not a question</td>\n",
       "    </tr>\n",
       "    <tr>\n",
       "      <th>196</th>\n",
       "      <td>What is your favorite type of ice cream flavor?</td>\n",
       "      <td>a question</td>\n",
       "    </tr>\n",
       "    <tr>\n",
       "      <th>197</th>\n",
       "      <td>She likes to go to the beach and swim in the o...</td>\n",
       "      <td>not a question</td>\n",
       "    </tr>\n",
       "  </tbody>\n",
       "</table>\n",
       "<p>181 rows × 2 columns</p>\n",
       "</div>"
      ],
      "text/plain": [
       "                                                  text           label\n",
       "0                    The cat is sleeping on the couch.  not a question\n",
       "1                  Are you going to the party tonight?      a question\n",
       "2                 I finished reading a book yesterday.  not a question\n",
       "3               What is your favorite type of cuisine?      a question\n",
       "4              She went to the store to buy some milk.  not a question\n",
       "..                                                 ...             ...\n",
       "193  She enjoys practicing meditation and mindfulness.  not a question\n",
       "194                   Do you like to go to the museum?      a question\n",
       "195  He is a construction worker and builds structu...  not a question\n",
       "196    What is your favorite type of ice cream flavor?      a question\n",
       "197  She likes to go to the beach and swim in the o...  not a question\n",
       "\n",
       "[181 rows x 2 columns]"
      ]
     },
     "execution_count": 161,
     "metadata": {},
     "output_type": "execute_result"
    }
   ],
   "source": [
    "# Get all the unique rows\n",
    "df = df[~df.duplicated()]\n",
    "df"
   ]
  },
  {
   "cell_type": "code",
   "execution_count": 162,
   "id": "dfa3be61-dc83-46b0-b29d-0f795518bea6",
   "metadata": {
    "tags": []
   },
   "outputs": [
    {
     "name": "stdout",
     "output_type": "stream",
     "text": [
      "(90, 2)\n",
      "(91, 2)\n"
     ]
    }
   ],
   "source": [
    "from sklearn.model_selection import train_test_split\n",
    "df_train, df_test = train_test_split(df, train_size= 0.5)\n",
    "\n",
    "print(df_train.shape)\n",
    "print(df_test.shape)"
   ]
  },
  {
   "cell_type": "markdown",
   "id": "eeb89cd4-d270-41ee-8e8b-02595dff0cbd",
   "metadata": {},
   "source": [
    "### Labeling_function class\n",
    "The LabelingFunction class is a key component of the Snorkel framework, which is used for weak supervision \n",
    "and programmatic data labeling. A LabelingFunction is a Python function that takes in an input data point \n",
    "(such as a text snippet or an image) and returns a label for that data point based on some heuristic or other rule.\n",
    "\n",
    "In Snorkel, LabelingFunctions are used to create labeled training data from large amounts of unlabeled data. By \n",
    "creating many different LabelingFunctions and combining their outputs using a generative model, it is possible to \n",
    "create labeled training data that is of high quality, even if each individual LabelingFunction is not perfect.\n",
    "\n",
    "The LabelingFunction class in Snorkel provides a number of useful features for building LabelingFunctions, including \n",
    "a built-in error handling system that allows users to handle noisy or incorrect labels, and the ability to incorporate \n",
    "domain-specific knowledge or external data sources to improve label accuracy.\n",
    "\n",
    "### PandasLFApplier class\n",
    "The PandasLFApplier class in Snorkel is used to apply labeling functions (LFs) to a pandas DataFrame. It takes a set \n",
    "of LFs and a pandas DataFrame as input, and applies the LFs to each row of the DataFrame to produce label matrices. \n",
    "The resulting label matrices can then be used to train machine learning models.\n",
    "\n",
    "The PandasLFApplier class has several useful features, such as the ability to automatically parallelize LF \n",
    "application across multiple CPU cores, and the ability to apply LFs to subsets of the DataFrame based on the \n",
    "values of certain columns. It also allows for easy integration with other parts of the Snorkel workflow, such as \n",
    "the LabelModel class for model training and the LabelingFunction class for defining LFs.\n",
    "\n",
    "\n",
    "### LFAnalysis class\n",
    "The Snorkel LFAnalysis class is a utility class that provides various analysis functions for a set of labeling \n",
    "functions in a Snorkel project. Some of the analysis functions provided by LFAnalysis include:\n",
    "\n",
    "- coverage: Computes the percentage of examples that are covered by at least one labeling function.\n",
    "- overlaps: Computes the overlap between pairs of labeling functions.\n",
    "- conflicts: Computes the number of times labeling functions disagree on a given example.\n",
    "- empirical_accuracy: Computes the empirical accuracy of each labeling function, based on a small set of gold labels."
   ]
  },
  {
   "cell_type": "code",
   "execution_count": 163,
   "id": "417bc2f7-22e1-4d56-ac6c-7485484c472a",
   "metadata": {
    "tags": []
   },
   "outputs": [],
   "source": [
    "from snorkel.labeling import labeling_function, PandasLFApplier, LFAnalysis\n",
    "import re\n",
    "\n",
    "# Labels\n",
    "YES = 1\n",
    "ABSTAIN = -1"
   ]
  },
  {
   "cell_type": "markdown",
   "id": "f8ebb206-ad9b-4752-849e-b9cd241c260d",
   "metadata": {},
   "source": [
    "## Creating labeling functions"
   ]
  },
  {
   "cell_type": "code",
   "execution_count": 164,
   "id": "314b0eed-4327-41c3-907d-1ccf20ad53da",
   "metadata": {
    "tags": []
   },
   "outputs": [],
   "source": [
    "# python decorator to take function as argument into labeling_function()\n",
    "@labeling_function()\n",
    "def question_keyword_tokens(x):\n",
    "    keywords = ['what', 'why', 'when', 'where', 'who', 'how']\n",
    "    return YES if any(word in x.text.lower() for word in keywords) else ABSTAIN "
   ]
  },
  {
   "cell_type": "code",
   "execution_count": 165,
   "id": "39a07477-77b7-4f95-ae76-4019e83d3100",
   "metadata": {
    "tags": []
   },
   "outputs": [],
   "source": [
    "@labeling_function()\n",
    "def question_regex_tokens(x):\n",
    "    return YES if re.search(r\".*?\", x.text, flags=re.I) else ABSTAIN"
   ]
  },
  {
   "cell_type": "code",
   "execution_count": 166,
   "id": "c018c20e-04f8-4901-8320-ede14d9d46ba",
   "metadata": {
    "tags": []
   },
   "outputs": [],
   "source": [
    "@labeling_function()\n",
    "def question_regex_are_tokens_(x): \n",
    "    return YES if re.search(r\"what.*?\", x.text.lower(), flags=re.I) else ABSTAIN"
   ]
  },
  {
   "cell_type": "markdown",
   "id": "ff05534a-665e-4ff4-a5b4-4606997e35b1",
   "metadata": {
    "tags": []
   },
   "source": [
    "## Feed labeling functions into PandasLFApplier"
   ]
  },
  {
   "cell_type": "code",
   "execution_count": 167,
   "id": "ba400df5-c635-4cdf-9243-3e538ef27078",
   "metadata": {
    "tags": []
   },
   "outputs": [],
   "source": [
    "l_functions = [question_keyword_tokens, question_regex_tokens, question_regex_are_tokens_]\n",
    "\n",
    "applier = PandasLFApplier(lfs = l_functions)"
   ]
  },
  {
   "cell_type": "markdown",
   "id": "59ea303a-92a8-4690-bf40-8474f99bace5",
   "metadata": {},
   "source": [
    "## Create label matrix "
   ]
  },
  {
   "cell_type": "code",
   "execution_count": 168,
   "id": "7a82a5bc-a74d-4184-a100-26f4d7e2f443",
   "metadata": {
    "tags": []
   },
   "outputs": [
    {
     "name": "stderr",
     "output_type": "stream",
     "text": [
      "100%|█████████████████████████████████████████████████████████████| 90/90 [00:00<00:00, 29365.02it/s]\n"
     ]
    }
   ],
   "source": [
    "L_train = applier.apply(df=df_train)"
   ]
  },
  {
   "cell_type": "code",
   "execution_count": 169,
   "id": "1b11967b-d926-4dec-98df-19e8fd73ba59",
   "metadata": {},
   "outputs": [
    {
     "data": {
      "text/plain": [
       "array([[-1,  1, -1],\n",
       "       [-1,  1, -1],\n",
       "       [-1,  1, -1],\n",
       "       [-1,  1, -1],\n",
       "       [-1,  1, -1]])"
      ]
     },
     "execution_count": 169,
     "metadata": {},
     "output_type": "execute_result"
    }
   ],
   "source": [
    "#Print first 5 questions that are labeled with all 3 labeling functions\n",
    "L_train[:5] "
   ]
  },
  {
   "cell_type": "markdown",
   "id": "7b28c77d-dee9-4882-90ce-aa6fb9147c0e",
   "metadata": {
    "tags": []
   },
   "source": [
    "## Apply label matrix to LFAnalysis"
   ]
  },
  {
   "cell_type": "code",
   "execution_count": 170,
   "id": "51622f86-924f-4a71-97f0-e2f521f3251b",
   "metadata": {
    "tags": []
   },
   "outputs": [
    {
     "data": {
      "text/html": [
       "<div>\n",
       "<style scoped>\n",
       "    .dataframe tbody tr th:only-of-type {\n",
       "        vertical-align: middle;\n",
       "    }\n",
       "\n",
       "    .dataframe tbody tr th {\n",
       "        vertical-align: top;\n",
       "    }\n",
       "\n",
       "    .dataframe thead th {\n",
       "        text-align: right;\n",
       "    }\n",
       "</style>\n",
       "<table border=\"1\" class=\"dataframe\">\n",
       "  <thead>\n",
       "    <tr style=\"text-align: right;\">\n",
       "      <th></th>\n",
       "      <th>j</th>\n",
       "      <th>Polarity</th>\n",
       "      <th>Coverage</th>\n",
       "      <th>Overlaps</th>\n",
       "      <th>Conflicts</th>\n",
       "    </tr>\n",
       "  </thead>\n",
       "  <tbody>\n",
       "    <tr>\n",
       "      <th>question_keyword_tokens</th>\n",
       "      <td>0</td>\n",
       "      <td>[1]</td>\n",
       "      <td>0.288889</td>\n",
       "      <td>0.288889</td>\n",
       "      <td>0.0</td>\n",
       "    </tr>\n",
       "    <tr>\n",
       "      <th>question_regex_tokens</th>\n",
       "      <td>1</td>\n",
       "      <td>[1]</td>\n",
       "      <td>1.000000</td>\n",
       "      <td>0.288889</td>\n",
       "      <td>0.0</td>\n",
       "    </tr>\n",
       "    <tr>\n",
       "      <th>question_regex_are_tokens_</th>\n",
       "      <td>2</td>\n",
       "      <td>[1]</td>\n",
       "      <td>0.155556</td>\n",
       "      <td>0.155556</td>\n",
       "      <td>0.0</td>\n",
       "    </tr>\n",
       "  </tbody>\n",
       "</table>\n",
       "</div>"
      ],
      "text/plain": [
       "                            j Polarity  Coverage  Overlaps  Conflicts\n",
       "question_keyword_tokens     0      [1]  0.288889  0.288889        0.0\n",
       "question_regex_tokens       1      [1]  1.000000  0.288889        0.0\n",
       "question_regex_are_tokens_  2      [1]  0.155556  0.155556        0.0"
      ]
     },
     "execution_count": 170,
     "metadata": {},
     "output_type": "execute_result"
    }
   ],
   "source": [
    "LFAnalysis(L=L_train, lfs = l_functions).lf_summary()"
   ]
  },
  {
   "cell_type": "markdown",
   "id": "9897cc0c-b2ea-4e7f-bde6-a546da8b2cc3",
   "metadata": {},
   "source": [
    "- `Polarity`: the set of unique labels each labeling function outputs, excluding abstains\n",
    "- `Coverage`: the fraction of the dataset each labeling function labels\n",
    "- `Overlaps`: the fraction of the dataset where each labeling function and at least another labeling function label\n",
    "- `Conflicts`: the fraction of the dataset where each labeling function and at least another labeling function label, and they’re disagree"
   ]
  },
  {
   "cell_type": "markdown",
   "id": "cd8f12ff-2a1b-483d-b7d6-34c75b8cd254",
   "metadata": {},
   "source": [
    "## Label model\n",
    "The label model aggregates the labels from labeling functions to produce a final label. "
   ]
  },
  {
   "cell_type": "code",
   "execution_count": 171,
   "id": "96fbde60-6044-4e7b-ad63-fd087a198ba6",
   "metadata": {
    "tags": []
   },
   "outputs": [],
   "source": [
    "from snorkel.labeling.model import MajorityLabelVoter, LabelModel"
   ]
  },
  {
   "cell_type": "code",
   "execution_count": 172,
   "id": "3650539c-dee3-431f-bd1f-5bbb21dcd2ae",
   "metadata": {
    "tags": []
   },
   "outputs": [
    {
     "name": "stderr",
     "output_type": "stream",
     "text": [
      "INFO:root:Computing O...\n",
      "INFO:root:Estimating \\mu...\n",
      "  0%|                                                                     | 0/500 [00:00<?, ?epoch/s]INFO:root:[0 epochs]: TRAIN:[loss=0.583]\n",
      "INFO:root:[100 epochs]: TRAIN:[loss=0.006]\n",
      "INFO:root:[200 epochs]: TRAIN:[loss=0.000]\n",
      "INFO:root:[300 epochs]: TRAIN:[loss=0.000]\n",
      "INFO:root:[400 epochs]: TRAIN:[loss=0.000]\n",
      "100%|█████████████████████████████████████████████████████████| 500/500 [00:00<00:00, 4615.91epoch/s]\n",
      "INFO:root:Finished Training\n"
     ]
    }
   ],
   "source": [
    "label_model = LabelModel(cardinality=2, verbose=True)\n",
    "label_model.fit(L_train = L_train, n_epochs = 500, log_freq=100, seed=123)\n"
   ]
  },
  {
   "cell_type": "code",
   "execution_count": 173,
   "id": "0aa79ccb-95ec-4118-a405-682d514003a4",
   "metadata": {
    "tags": []
   },
   "outputs": [],
   "source": [
    "df_train['labels'] = label_model.predict(L = L_train, tie_break_policy=\"abstain\")"
   ]
  },
  {
   "cell_type": "code",
   "execution_count": 174,
   "id": "ec8910dd-03c5-41e9-aa1c-a45677221f17",
   "metadata": {
    "tags": []
   },
   "outputs": [
    {
     "data": {
      "text/html": [
       "<div>\n",
       "<style scoped>\n",
       "    .dataframe tbody tr th:only-of-type {\n",
       "        vertical-align: middle;\n",
       "    }\n",
       "\n",
       "    .dataframe tbody tr th {\n",
       "        vertical-align: top;\n",
       "    }\n",
       "\n",
       "    .dataframe thead th {\n",
       "        text-align: right;\n",
       "    }\n",
       "</style>\n",
       "<table border=\"1\" class=\"dataframe\">\n",
       "  <thead>\n",
       "    <tr style=\"text-align: right;\">\n",
       "      <th></th>\n",
       "      <th>text</th>\n",
       "      <th>label</th>\n",
       "      <th>labels</th>\n",
       "    </tr>\n",
       "  </thead>\n",
       "  <tbody>\n",
       "    <tr>\n",
       "      <th>124</th>\n",
       "      <td>She enjoys spending time with her family and f...</td>\n",
       "      <td>not a question</td>\n",
       "      <td>-1</td>\n",
       "    </tr>\n",
       "    <tr>\n",
       "      <th>140</th>\n",
       "      <td>She likes to go to the beach and relax in the ...</td>\n",
       "      <td>not a question</td>\n",
       "      <td>-1</td>\n",
       "    </tr>\n",
       "    <tr>\n",
       "      <th>181</th>\n",
       "      <td>He is a teacher and educates students.</td>\n",
       "      <td>not a question</td>\n",
       "      <td>-1</td>\n",
       "    </tr>\n",
       "    <tr>\n",
       "      <th>137</th>\n",
       "      <td>Can you recommend a good place to go for a run?</td>\n",
       "      <td>a question</td>\n",
       "      <td>-1</td>\n",
       "    </tr>\n",
       "    <tr>\n",
       "      <th>87</th>\n",
       "      <td>Would you like to go to the zoo this weekend?</td>\n",
       "      <td>a question</td>\n",
       "      <td>-1</td>\n",
       "    </tr>\n",
       "    <tr>\n",
       "      <th>...</th>\n",
       "      <td>...</td>\n",
       "      <td>...</td>\n",
       "      <td>...</td>\n",
       "    </tr>\n",
       "    <tr>\n",
       "      <th>83</th>\n",
       "      <td>How do you like to stay motivated?</td>\n",
       "      <td>a question</td>\n",
       "      <td>1</td>\n",
       "    </tr>\n",
       "    <tr>\n",
       "      <th>17</th>\n",
       "      <td>How do you like to spend your weekends?</td>\n",
       "      <td>a question</td>\n",
       "      <td>1</td>\n",
       "    </tr>\n",
       "    <tr>\n",
       "      <th>98</th>\n",
       "      <td>The coffee shop has great pastries and snacks.</td>\n",
       "      <td>not a question</td>\n",
       "      <td>-1</td>\n",
       "    </tr>\n",
       "    <tr>\n",
       "      <th>66</th>\n",
       "      <td>He is an architect and designs buildings.</td>\n",
       "      <td>not a question</td>\n",
       "      <td>-1</td>\n",
       "    </tr>\n",
       "    <tr>\n",
       "      <th>132</th>\n",
       "      <td>He is a writer and writes books for a living.</td>\n",
       "      <td>not a question</td>\n",
       "      <td>-1</td>\n",
       "    </tr>\n",
       "  </tbody>\n",
       "</table>\n",
       "<p>90 rows × 3 columns</p>\n",
       "</div>"
      ],
      "text/plain": [
       "                                                  text           label  labels\n",
       "124  She enjoys spending time with her family and f...  not a question      -1\n",
       "140  She likes to go to the beach and relax in the ...  not a question      -1\n",
       "181             He is a teacher and educates students.  not a question      -1\n",
       "137    Can you recommend a good place to go for a run?      a question      -1\n",
       "87       Would you like to go to the zoo this weekend?      a question      -1\n",
       "..                                                 ...             ...     ...\n",
       "83                  How do you like to stay motivated?      a question       1\n",
       "17             How do you like to spend your weekends?      a question       1\n",
       "98      The coffee shop has great pastries and snacks.  not a question      -1\n",
       "66           He is an architect and designs buildings.  not a question      -1\n",
       "132      He is a writer and writes books for a living.  not a question      -1\n",
       "\n",
       "[90 rows x 3 columns]"
      ]
     },
     "execution_count": 174,
     "metadata": {},
     "output_type": "execute_result"
    }
   ],
   "source": [
    "df_train"
   ]
  },
  {
   "cell_type": "code",
   "execution_count": 175,
   "id": "c0bb64b2-6d27-4054-a9a8-de8f2b880dde",
   "metadata": {},
   "outputs": [
    {
     "name": "stdout",
     "output_type": "stream",
     "text": [
      "(90, 3)\n",
      "Number of positive labels: 26\n",
      "Number of negative labels: 64\n",
      "Number of real negative (ABSTAIN) labels: 64\n"
     ]
    }
   ],
   "source": [
    "# To see if the \"majority label voter\" performed as expected.\n",
    "print(L_train.shape)\n",
    "result = L_train.sum(axis = 1)\n",
    "pos_numbers = [i for i in result if i > 0]\n",
    "print(f'Number of positive labels: {len(pos_numbers)}')\n",
    "print(f'Number of negative labels: {len(L_train) - len(pos_numbers)}')\n",
    "print(f'Number of real negative (ABSTAIN) labels: {len((df_train[df_train.labels == ABSTAIN]))}')"
   ]
  },
  {
   "cell_type": "code",
   "execution_count": 176,
   "id": "0f991d61-d2fd-4fa1-9b79-1c70058eead6",
   "metadata": {
    "tags": []
   },
   "outputs": [
    {
     "data": {
      "text/html": [
       "<div>\n",
       "<style scoped>\n",
       "    .dataframe tbody tr th:only-of-type {\n",
       "        vertical-align: middle;\n",
       "    }\n",
       "\n",
       "    .dataframe tbody tr th {\n",
       "        vertical-align: top;\n",
       "    }\n",
       "\n",
       "    .dataframe thead th {\n",
       "        text-align: right;\n",
       "    }\n",
       "</style>\n",
       "<table border=\"1\" class=\"dataframe\">\n",
       "  <thead>\n",
       "    <tr style=\"text-align: right;\">\n",
       "      <th></th>\n",
       "      <th>text</th>\n",
       "      <th>label</th>\n",
       "      <th>labels</th>\n",
       "    </tr>\n",
       "  </thead>\n",
       "  <tbody>\n",
       "    <tr>\n",
       "      <th>124</th>\n",
       "      <td>She enjoys spending time with her family and f...</td>\n",
       "      <td>not a question</td>\n",
       "      <td>-1</td>\n",
       "    </tr>\n",
       "    <tr>\n",
       "      <th>140</th>\n",
       "      <td>She likes to go to the beach and relax in the ...</td>\n",
       "      <td>not a question</td>\n",
       "      <td>-1</td>\n",
       "    </tr>\n",
       "    <tr>\n",
       "      <th>181</th>\n",
       "      <td>He is a teacher and educates students.</td>\n",
       "      <td>not a question</td>\n",
       "      <td>-1</td>\n",
       "    </tr>\n",
       "    <tr>\n",
       "      <th>137</th>\n",
       "      <td>Can you recommend a good place to go for a run?</td>\n",
       "      <td>a question</td>\n",
       "      <td>-1</td>\n",
       "    </tr>\n",
       "    <tr>\n",
       "      <th>87</th>\n",
       "      <td>Would you like to go to the zoo this weekend?</td>\n",
       "      <td>a question</td>\n",
       "      <td>-1</td>\n",
       "    </tr>\n",
       "    <tr>\n",
       "      <th>...</th>\n",
       "      <td>...</td>\n",
       "      <td>...</td>\n",
       "      <td>...</td>\n",
       "    </tr>\n",
       "    <tr>\n",
       "      <th>128</th>\n",
       "      <td>He is a carpenter and builds furniture.</td>\n",
       "      <td>not a question</td>\n",
       "      <td>-1</td>\n",
       "    </tr>\n",
       "    <tr>\n",
       "      <th>106</th>\n",
       "      <td>The park is quiet today.</td>\n",
       "      <td>not a question</td>\n",
       "      <td>-1</td>\n",
       "    </tr>\n",
       "    <tr>\n",
       "      <th>98</th>\n",
       "      <td>The coffee shop has great pastries and snacks.</td>\n",
       "      <td>not a question</td>\n",
       "      <td>-1</td>\n",
       "    </tr>\n",
       "    <tr>\n",
       "      <th>66</th>\n",
       "      <td>He is an architect and designs buildings.</td>\n",
       "      <td>not a question</td>\n",
       "      <td>-1</td>\n",
       "    </tr>\n",
       "    <tr>\n",
       "      <th>132</th>\n",
       "      <td>He is a writer and writes books for a living.</td>\n",
       "      <td>not a question</td>\n",
       "      <td>-1</td>\n",
       "    </tr>\n",
       "  </tbody>\n",
       "</table>\n",
       "<p>64 rows × 3 columns</p>\n",
       "</div>"
      ],
      "text/plain": [
       "                                                  text           label  labels\n",
       "124  She enjoys spending time with her family and f...  not a question      -1\n",
       "140  She likes to go to the beach and relax in the ...  not a question      -1\n",
       "181             He is a teacher and educates students.  not a question      -1\n",
       "137    Can you recommend a good place to go for a run?      a question      -1\n",
       "87       Would you like to go to the zoo this weekend?      a question      -1\n",
       "..                                                 ...             ...     ...\n",
       "128            He is a carpenter and builds furniture.  not a question      -1\n",
       "106                           The park is quiet today.  not a question      -1\n",
       "98      The coffee shop has great pastries and snacks.  not a question      -1\n",
       "66           He is an architect and designs buildings.  not a question      -1\n",
       "132      He is a writer and writes books for a living.  not a question      -1\n",
       "\n",
       "[64 rows x 3 columns]"
      ]
     },
     "execution_count": 176,
     "metadata": {},
     "output_type": "execute_result"
    }
   ],
   "source": [
    "df_train[df_train.labels == ABSTAIN]"
   ]
  },
  {
   "cell_type": "code",
   "execution_count": null,
   "id": "c4ad0eaf-df8e-47d2-9be7-e7228cba327d",
   "metadata": {
    "tags": []
   },
   "outputs": [],
   "source": []
  },
  {
   "cell_type": "markdown",
   "id": "dd16a81d-7e32-4c6f-b969-13ca4696b162",
   "metadata": {},
   "source": [
    "### Observation:\n",
    "> Changing the labeling function to take regex `r\"what.*?\"` (with better coverage) instead of `r\"are.*\"`,\n",
    "\n",
    "- Before\n",
    "|                           lf    |  j | Polarity | Coverage  | Overlaps  | Conflicts |\n",
    "|---------------------------------|----|----------|-----------|-----------|-----------|\n",
    "|      question_keyword_tokens    |  0 |      [1] |  0.288889 |  0.288889 |       0.0 |\n",
    "|           question_regex_tokens |  1 |      [1] |  1.000000 |  0.333333 |       0.0 |\n",
    "| question_regex_are_tokens_      |  2 |      [1] |  0.044444 |  0.044444 |       0.0 |\n",
    "\n",
    "- After\n",
    "|                           lf    |  j | Polarity | Coverage  | Overlaps  | Conflicts |\n",
    "|---------------------------------|----|----------|-----------|-----------|-----------|\n",
    "|      question_keyword_tokens    |  0 |      [1] |  0.233333 |  0.233333 |       0.0 |\n",
    "|           question_regex_tokens |  1 |      [1] |  1.000000 |  0.233333 |       0.0 |\n",
    "| question_regex_are_tokens_      |  2 |      [1] |  0.144444 |  0.144444 |       0.0 |\n",
    "\n",
    "> Resulted in an improvement in final labels, with more accurate depiction of ABSTAINED data. "
   ]
  },
  {
   "cell_type": "code",
   "execution_count": null,
   "id": "6b0ca550-2b38-4b5b-a03a-f6b74ade688f",
   "metadata": {},
   "outputs": [],
   "source": []
  },
  {
   "cell_type": "code",
   "execution_count": null,
   "id": "51a74a51-8862-4d23-99b2-32f9fb77ef0b",
   "metadata": {},
   "outputs": [],
   "source": []
  }
 ],
 "metadata": {
  "kernelspec": {
   "display_name": "python_ml_venv",
   "language": "python",
   "name": "python_ml_venv"
  },
  "language_info": {
   "codemirror_mode": {
    "name": "ipython",
    "version": 3
   },
   "file_extension": ".py",
   "mimetype": "text/x-python",
   "name": "python",
   "nbconvert_exporter": "python",
   "pygments_lexer": "ipython3",
   "version": "3.10.4"
  }
 },
 "nbformat": 4,
 "nbformat_minor": 5
}
